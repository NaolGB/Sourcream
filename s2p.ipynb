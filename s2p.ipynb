{
 "cells": [
  {
   "cell_type": "code",
   "execution_count": null,
   "metadata": {},
   "outputs": [],
   "source": [
    "import uuid\n",
    "import random\n",
    "import pandas as pd\n",
    "import numpy as np\n",
    "from datetime import datetime\n",
    "from create_sap_table import create_table_leanx as ctl\n",
    "\n",
    "import values, helpers\n",
    "import master_data, text_data, purchasing_doc_data"
   ]
  },
  {
   "cell_type": "code",
   "execution_count": null,
   "metadata": {},
   "outputs": [],
   "source": [
    "# text tables\n",
    "for method in (\n",
    "    text_data.domain_fixed_values, \n",
    "    text_data.sales_doc_types, \n",
    "    text_data.sales_organizations,\n",
    "    text_data.distribution,\n",
    "    text_data.sales_doc_item_categories,\n",
    "    text_data.sales_doc_rejection_reasons,\n",
    "    text_data.system_status,\n",
    "    text_data.blocking_reasons,\n",
    "    text_data.releases,\n",
    "    text_data.purchasing_doc_types,\n",
    "    text_data.purchasing_organizations\n",
    "):\n",
    "    table_dict = method()\n",
    "    for k, v in table_dict.items():\n",
    "        table_name = k.split('_')[0]\n",
    "        all_cols = pd.DataFrame(columns=[c[0] for c in ctl.fetch_table(table_name)])\n",
    "        df = pd.concat([all_cols, pd.DataFrame(v.values())])\n",
    "        df.to_csv(f'data/OCPM/text/{table_name}.csv', index=False)"
   ]
  },
  {
   "cell_type": "code",
   "execution_count": null,
   "metadata": {},
   "outputs": [],
   "source": [
    "# master tables\n",
    "for method in (\n",
    "    master_data.users,\n",
    "    master_data.customers_and_vendors, \n",
    "    master_data.plants, \n",
    "    master_data.materials, \n",
    "    master_data.material_support,\n",
    "    master_data.routes,\n",
    "    master_data.company_codes\n",
    "):\n",
    "    table_dict = method()\n",
    "    for k, v in table_dict.items():\n",
    "        table_name = k.split('_')[0]\n",
    "        all_cols = pd.DataFrame(columns=[c[0] for c in ctl.fetch_table(table_name)])\n",
    "        df = pd.concat([all_cols, pd.DataFrame(v.values())])\n",
    "        df.to_csv(f'data/OCPM/master/{table_name}.csv', index=False)"
   ]
  },
  {
   "cell_type": "code",
   "execution_count": null,
   "metadata": {},
   "outputs": [],
   "source": [
    "def get_user_name(automation_probability: float):\n",
    "    if random.random() <= automation_probability:\n",
    "        return 'BATCH_JOB'\n",
    "    return random.choice(list(values.om_users.keys()))\n",
    "\n",
    "def get_time_consumption(start_date, planned_target_date, latest_date):\n",
    "    return (latest_date - start_date) / (planned_target_date - start_date)"
   ]
  }
 ],
 "metadata": {
  "language_info": {
   "name": "python"
  }
 },
 "nbformat": 4,
 "nbformat_minor": 2
}
