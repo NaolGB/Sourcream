{
 "cells": [
  {
   "cell_type": "code",
   "execution_count": 1,
   "metadata": {},
   "outputs": [],
   "source": [
    "import os\n",
    "import csv\n",
    "import psycopg2\n",
    "from sqlalchemy import create_engine\n",
    "from psycopg2 import sql\n",
    "import pandas as pd\n",
    "import create_table_leanx as ctl"
   ]
  },
  {
   "cell_type": "code",
   "execution_count": 2,
   "metadata": {},
   "outputs": [],
   "source": [
    "# ctl.get_raw_query_as_str(table_name='VBAK')"
   ]
  },
  {
   "cell_type": "code",
   "execution_count": 3,
   "metadata": {},
   "outputs": [],
   "source": [
    "db_host = ''\n",
    "db_port = ''\n",
    "db_name = ''\n",
    "db_user = ''\n",
    "db_password = ''\n",
    "\n",
    "# Construct the connection string\n",
    "connection_string = sql.SQL(\"dbname={} user={} password={} host={} port={}\").format(\n",
    "    sql.Identifier(db_name),\n",
    "    sql.Identifier(db_user),\n",
    "    sql.Identifier(db_password),\n",
    "    sql.Identifier(db_host),\n",
    "    sql.Identifier(db_port)\n",
    ")"
   ]
  },
  {
   "cell_type": "code",
   "execution_count": 4,
   "metadata": {},
   "outputs": [
    {
     "name": "stdout",
     "output_type": "stream",
     "text": [
      "Tables in the database:\n"
     ]
    }
   ],
   "source": [
    "connection = psycopg2.connect(f\"dbname={db_name} user={db_user} password={db_password} host={db_host} port={db_port}\")\n",
    "cursor = connection.cursor()\n",
    "\n",
    "cursor.execute(\"SELECT table_name FROM information_schema.tables WHERE table_name = 'ocpm_om';\")\n",
    "\n",
    "# cursor.execute(\"SELECT schema_name FROM information_schema.schemata;\")\n",
    "# cursor.execute(\"\"\"\n",
    "# SELECT table_name\n",
    "# FROM information_schema.tables\n",
    "# WHERE table_type = 'BASE TABLE' AND table_schema = 'celonis_ocpm';\n",
    "# \"\"\")\n",
    "table_names = cursor.fetchall()\n",
    "print(\"Tables in the database:\")\n",
    "for table in table_names:\n",
    "    print(table[0])\n",
    "\n",
    "cursor.close()\n",
    "connection.close()"
   ]
  },
  {
   "cell_type": "code",
   "execution_count": 5,
   "metadata": {},
   "outputs": [
    {
     "name": "stdout",
     "output_type": "stream",
     "text": [
      "Creating or overwriting table: T006D with data from: data/OCPM/master/T006D.csv\n",
      "Creating or overwriting table: T134T with data from: data/OCPM/master/T134T.csv\n",
      "Creating or overwriting table: MARM with data from: data/OCPM/master/MARM.csv\n",
      "Creating or overwriting table: T001W with data from: data/OCPM/master/T001W.csv\n",
      "Creating or overwriting table: KNA1 with data from: data/OCPM/master/KNA1.csv\n",
      "Creating or overwriting table: TVRO with data from: data/OCPM/master/TVRO.csv\n",
      "Creating or overwriting table: MBEW with data from: data/OCPM/master/MBEW.csv\n",
      "Creating or overwriting table: USR21 with data from: data/OCPM/master/USR21.csv\n",
      "Creating or overwriting table: T023T with data from: data/OCPM/master/T023T.csv\n",
      "Creating or overwriting table: T001 with data from: data/OCPM/master/T001.csv\n",
      "Creating or overwriting table: ADRP with data from: data/OCPM/master/ADRP.csv\n",
      "Creating or overwriting table: T001K with data from: data/OCPM/master/T001K.csv\n",
      "Creating or overwriting table: USR02 with data from: data/OCPM/master/USR02.csv\n",
      "Creating or overwriting table: T006 with data from: data/OCPM/master/T006.csv\n",
      "Creating or overwriting table: KNB1 with data from: data/OCPM/master/KNB1.csv\n",
      "Creating or overwriting table: MARC with data from: data/OCPM/master/MARC.csv\n",
      "Creating or overwriting table: T005T with data from: data/OCPM/master/T005T.csv\n",
      "Creating or overwriting table: T137T with data from: data/OCPM/master/T137T.csv\n",
      "Creating or overwriting table: MAKT with data from: data/OCPM/master/MAKT.csv\n",
      "Creating or overwriting table: MARA with data from: data/OCPM/master/MARA.csv\n",
      "Creating or overwriting table: BSEG with data from: data/OCPM/sales-document/BSEG.csv\n",
      "Creating or overwriting table: VBFA with data from: data/OCPM/sales-document/VBFA.csv\n",
      "Creating or overwriting table: VBRP with data from: data/OCPM/sales-document/VBRP.csv\n",
      "Creating or overwriting table: VBKD with data from: data/OCPM/sales-document/VBKD.csv\n",
      "Creating or overwriting table: VBAP with data from: data/OCPM/sales-document/VBAP.csv\n",
      "Creating or overwriting table: BKPF with data from: data/OCPM/sales-document/BKPF.csv\n",
      "Creating or overwriting table: LIPS with data from: data/OCPM/sales-document/LIPS.csv\n",
      "Creating or overwriting table: VBUK with data from: data/OCPM/sales-document/VBUK.csv\n",
      "Creating or overwriting table: MSEG with data from: data/OCPM/sales-document/MSEG.csv\n",
      "Creating or overwriting table: VBAK with data from: data/OCPM/sales-document/VBAK.csv\n",
      "Creating or overwriting table: LIKP with data from: data/OCPM/sales-document/LIKP.csv\n",
      "Creating or overwriting table: CDPOS with data from: data/OCPM/sales-document/CDPOS.csv\n",
      "Creating or overwriting table: JCDS with data from: data/OCPM/sales-document/JCDS.csv\n",
      "Creating or overwriting table: VBEP with data from: data/OCPM/sales-document/VBEP.csv\n",
      "Creating or overwriting table: VBRK with data from: data/OCPM/sales-document/VBRK.csv\n",
      "Creating or overwriting table: CDHDR with data from: data/OCPM/sales-document/CDHDR.csv\n",
      "Creating or overwriting table: EKBE with data from: data/OCPM/sales-document/EKBE.csv\n",
      "Creating or overwriting table: TVLST with data from: data/OCPM/text/TVLST.csv\n",
      "Creating or overwriting table: TVAK with data from: data/OCPM/text/TVAK.csv\n",
      "Creating or overwriting table: T156 with data from: data/OCPM/text/T156.csv\n",
      "Creating or overwriting table: TVAPT with data from: data/OCPM/text/TVAPT.csv\n",
      "Creating or overwriting table: TVAGT with data from: data/OCPM/text/TVAGT.csv\n",
      "Creating or overwriting table: TVAKT with data from: data/OCPM/text/TVAKT.csv\n",
      "Creating or overwriting table: DD07T with data from: data/OCPM/text/DD07T.csv\n",
      "Creating or overwriting table: TVSBT with data from: data/OCPM/text/TVSBT.csv\n",
      "Creating or overwriting table: TVTWT with data from: data/OCPM/text/TVTWT.csv\n",
      "Creating or overwriting table: TVKOV with data from: data/OCPM/text/TVKOV.csv\n",
      "Creating or overwriting table: TVFST with data from: data/OCPM/text/TVFST.csv\n",
      "Creating or overwriting table: TJ02T with data from: data/OCPM/text/TJ02T.csv\n",
      "Creating or overwriting table: TVKOT with data from: data/OCPM/text/TVKOT.csv\n",
      "Creating or overwriting table: TVKBT with data from: data/OCPM/text/TVKBT.csv\n"
     ]
    }
   ],
   "source": [
    "connection = psycopg2.connect(f\"dbname={db_name} user={db_user} password={db_password} host={db_host} port={db_port}\")\n",
    "cursor = connection.cursor()\n",
    "# root_folder = \"data/OCPM 011124 1858\"\n",
    "root_folder = \"data/OCPM\"\n",
    "\n",
    "def find_csv_files(root_folder):\n",
    "    csv_files = []\n",
    "    for root, dirs, files in os.walk(root_folder):\n",
    "        for file in files:\n",
    "            if file.endswith(\".csv\"):\n",
    "                csv_files.append(os.path.join(root, file))\n",
    "    return csv_files\n",
    "\n",
    "def create_or_overwrite_table(csv_file_path, cursor):\n",
    "    table_name = csv_file_path.split('/')[-1]\n",
    "    table_name = table_name.split('.')[0]\n",
    "    print(f\"Creating or overwriting table: {table_name} with data from: {csv_file_path}\")\n",
    "\n",
    "    df = pd.read_csv(csv_file_path)\n",
    "    engine = create_engine(f\"postgresql+psycopg2://{db_user}:{db_password}@{db_host}:{db_port}/{db_name}\")\n",
    "    df.to_sql(name=table_name, con=engine, schema='ocpm_om', if_exists='replace', index=False)\n",
    "\n",
    "csv_files = find_csv_files(root_folder)\n",
    "for csv_file in csv_files:\n",
    "    create_or_overwrite_table(csv_file, cursor)\n",
    "\n",
    "cursor.close()\n",
    "connection.close()"
   ]
  },
  {
   "cell_type": "code",
   "execution_count": null,
   "metadata": {},
   "outputs": [],
   "source": []
  }
 ],
 "metadata": {
  "kernelspec": {
   "display_name": "Python 3",
   "language": "python",
   "name": "python3"
  },
  "language_info": {
   "codemirror_mode": {
    "name": "ipython",
    "version": 3
   },
   "file_extension": ".py",
   "mimetype": "text/x-python",
   "name": "python",
   "nbconvert_exporter": "python",
   "pygments_lexer": "ipython3",
   "version": "3.10.12"
  }
 },
 "nbformat": 4,
 "nbformat_minor": 2
}
