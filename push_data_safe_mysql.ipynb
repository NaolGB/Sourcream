{
 "cells": [
  {
   "cell_type": "code",
   "execution_count": 2,
   "metadata": {},
   "outputs": [
    {
     "name": "stderr",
     "output_type": "stream",
     "text": [
      "/Users/joannamasin-buck/Library/Python/3.9/lib/python/site-packages/urllib3/__init__.py:35: NotOpenSSLWarning: urllib3 v2 only supports OpenSSL 1.1.1+, currently the 'ssl' module is compiled with 'LibreSSL 2.8.3'. See: https://github.com/urllib3/urllib3/issues/3020\n",
      "  warnings.warn(\n"
     ]
    }
   ],
   "source": [
    "import os\n",
    "import csv\n",
    "import psycopg2\n",
    "import mysql\n",
    "import MySQLdb\n",
    "from sqlalchemy import create_engine, Table, Column, Integer, String, MetaData, DATE, TIMESTAMP, VARCHAR, FLOAT, INTEGER\n",
    "from psycopg2 import sql\n",
    "import pandas as pd\n",
    "from extras import create_table_leanx as ctl\n",
    "from extras import table_schemas"
   ]
  },
  {
   "cell_type": "code",
   "execution_count": null,
   "metadata": {},
   "outputs": [],
   "source": [
    "# ctl.get_raw_query_as_str(table_name='VBAK')"
   ]
  },
  {
   "cell_type": "code",
   "execution_count": 3,
   "metadata": {},
   "outputs": [],
   "source": [
    "db_host = 'academymysql.cluster-ckynnbglhixw.eu-central-1.rds.amazonaws.com'\n",
    "db_port = '3306'\n",
    "db_name = 'ocpm_inv_test'\n",
    "db_user = 'ocpm_inv_test'\n",
    "db_password = 'Celonis1234!'\n",
    "\n",
    "# Construct the connection string\n",
    "connection_string = sql.SQL(\"dbname={} user={} password={} host={} port={}\").format(\n",
    "    sql.Identifier(db_name),\n",
    "    sql.Identifier(db_user),\n",
    "    sql.Identifier(db_password),\n",
    "    sql.Identifier(db_host),\n",
    "    sql.Identifier(db_port)\n",
    ")"
   ]
  },
  {
   "cell_type": "code",
   "execution_count": null,
   "metadata": {},
   "outputs": [],
   "source": [
    "# connection = psycopg2.connect(f\"dbname={db_name} user={db_user} password={db_password} host={db_host} port={db_port}\")\n",
    "# cursor = connection.cursor()\n",
    "\n",
    "# cursor.execute(\"SELECT table_name FROM information_schema.tables WHERE table_name = 'ocpm_om';\")\n",
    "\n",
    "# cursor.execute(\"SELECT schema_name FROM information_schema.schemata;\")\n",
    "# cursor.execute(\"\"\"\n",
    "# SELECT table_name\n",
    "# FROM information_schema.tables\n",
    "# WHERE table_type = 'BASE TABLE' AND table_schema = 'ocpm_om';\n",
    "# \"\"\")\n",
    "# table_names = cursor.fetchall()\n",
    "# print(\"Tables in the database:\")\n",
    "# for table in table_names:\n",
    "#     print(table[0])\n",
    "\n",
    "# cursor.close()\n",
    "# connection.close()"
   ]
  },
  {
   "cell_type": "code",
   "execution_count": null,
   "metadata": {},
   "outputs": [],
   "source": [
    "#check timestamps / dates in schemas\n",
    "# ts = table_schemas.table_schemas\n",
    "\n",
    "# def checktimecolumns(table_name: str):\n",
    "#     list_of_columns = []\n",
    "#     for column in ctl.required_table_columns[table_name]:\n",
    "#         if ts[table_name][column] == DATE or ts[table_name][column] == TIMESTAMP:\n",
    "#             list_of_columns.append(column)\n",
    "#     return list_of_columns \n",
    "\n",
    "# checktimecolumns('VBFA')"
   ]
  },
  {
   "cell_type": "code",
   "execution_count": 4,
   "metadata": {},
   "outputs": [
    {
     "ename": "OperationalError",
     "evalue": "(2003, \"Can't connect to MySQL server on 'academymysql.cluster-ckynnbglhixw.eu-central-1.rds.amazonaws.com:3306' (60)\")",
     "output_type": "error",
     "traceback": [
      "\u001b[0;31m---------------------------------------------------------------------------\u001b[0m",
      "\u001b[0;31mOperationalError\u001b[0m                          Traceback (most recent call last)",
      "Cell \u001b[0;32mIn[4], line 1\u001b[0m\n\u001b[0;32m----> 1\u001b[0m connection \u001b[38;5;241m=\u001b[39m \u001b[43mMySQLdb\u001b[49m\u001b[38;5;241;43m.\u001b[39;49m\u001b[43mconnect\u001b[49m\u001b[43m(\u001b[49m\u001b[43mdb\u001b[49m\u001b[38;5;241;43m=\u001b[39;49m\u001b[43mdb_name\u001b[49m\u001b[43m,\u001b[49m\u001b[43m \u001b[49m\u001b[43muser\u001b[49m\u001b[38;5;241;43m=\u001b[39;49m\u001b[43mdb_user\u001b[49m\u001b[43m,\u001b[49m\u001b[43m \u001b[49m\u001b[43mpasswd\u001b[49m\u001b[38;5;241;43m=\u001b[39;49m\u001b[43mdb_password\u001b[49m\u001b[43m,\u001b[49m\u001b[43m \u001b[49m\u001b[43mhost\u001b[49m\u001b[38;5;241;43m=\u001b[39;49m\u001b[43mdb_host\u001b[49m\u001b[43m)\u001b[49m\n\u001b[1;32m      2\u001b[0m cursor \u001b[38;5;241m=\u001b[39m connection\u001b[38;5;241m.\u001b[39mcursor()\n\u001b[1;32m      3\u001b[0m \u001b[38;5;66;03m# root_folder = \"data/OCPM 011124 1858\"\u001b[39;00m\n",
      "File \u001b[0;32m~/Library/Python/3.9/lib/python/site-packages/MySQLdb/__init__.py:121\u001b[0m, in \u001b[0;36mConnect\u001b[0;34m(*args, **kwargs)\u001b[0m\n\u001b[1;32m    118\u001b[0m \u001b[38;5;250m\u001b[39m\u001b[38;5;124;03m\"\"\"Factory function for connections.Connection.\"\"\"\u001b[39;00m\n\u001b[1;32m    119\u001b[0m \u001b[38;5;28;01mfrom\u001b[39;00m \u001b[38;5;21;01mMySQLdb\u001b[39;00m\u001b[38;5;21;01m.\u001b[39;00m\u001b[38;5;21;01mconnections\u001b[39;00m \u001b[38;5;28;01mimport\u001b[39;00m Connection\n\u001b[0;32m--> 121\u001b[0m \u001b[38;5;28;01mreturn\u001b[39;00m \u001b[43mConnection\u001b[49m\u001b[43m(\u001b[49m\u001b[38;5;241;43m*\u001b[39;49m\u001b[43margs\u001b[49m\u001b[43m,\u001b[49m\u001b[43m \u001b[49m\u001b[38;5;241;43m*\u001b[39;49m\u001b[38;5;241;43m*\u001b[39;49m\u001b[43mkwargs\u001b[49m\u001b[43m)\u001b[49m\n",
      "File \u001b[0;32m~/Library/Python/3.9/lib/python/site-packages/MySQLdb/connections.py:199\u001b[0m, in \u001b[0;36mConnection.__init__\u001b[0;34m(self, *args, **kwargs)\u001b[0m\n\u001b[1;32m    196\u001b[0m \u001b[38;5;66;03m# PEP-249 requires autocommit to be initially off\u001b[39;00m\n\u001b[1;32m    197\u001b[0m autocommit \u001b[38;5;241m=\u001b[39m kwargs2\u001b[38;5;241m.\u001b[39mpop(\u001b[38;5;124m\"\u001b[39m\u001b[38;5;124mautocommit\u001b[39m\u001b[38;5;124m\"\u001b[39m, \u001b[38;5;28;01mFalse\u001b[39;00m)\n\u001b[0;32m--> 199\u001b[0m \u001b[38;5;28;43msuper\u001b[39;49m\u001b[43m(\u001b[49m\u001b[43m)\u001b[49m\u001b[38;5;241;43m.\u001b[39;49m\u001b[38;5;21;43m__init__\u001b[39;49m\u001b[43m(\u001b[49m\u001b[38;5;241;43m*\u001b[39;49m\u001b[43margs\u001b[49m\u001b[43m,\u001b[49m\u001b[43m \u001b[49m\u001b[38;5;241;43m*\u001b[39;49m\u001b[38;5;241;43m*\u001b[39;49m\u001b[43mkwargs2\u001b[49m\u001b[43m)\u001b[49m\n\u001b[1;32m    200\u001b[0m \u001b[38;5;28mself\u001b[39m\u001b[38;5;241m.\u001b[39mcursorclass \u001b[38;5;241m=\u001b[39m cursorclass\n\u001b[1;32m    201\u001b[0m \u001b[38;5;28mself\u001b[39m\u001b[38;5;241m.\u001b[39mencoders \u001b[38;5;241m=\u001b[39m {\n\u001b[1;32m    202\u001b[0m     k: v\n\u001b[1;32m    203\u001b[0m     \u001b[38;5;28;01mfor\u001b[39;00m k, v \u001b[38;5;129;01min\u001b[39;00m conv\u001b[38;5;241m.\u001b[39mitems()\n\u001b[1;32m    204\u001b[0m     \u001b[38;5;28;01mif\u001b[39;00m \u001b[38;5;28mtype\u001b[39m(k) \u001b[38;5;129;01mis\u001b[39;00m \u001b[38;5;129;01mnot\u001b[39;00m \u001b[38;5;28mint\u001b[39m  \u001b[38;5;66;03m# noqa: E721\u001b[39;00m\n\u001b[1;32m    205\u001b[0m }\n",
      "\u001b[0;31mOperationalError\u001b[0m: (2003, \"Can't connect to MySQL server on 'academymysql.cluster-ckynnbglhixw.eu-central-1.rds.amazonaws.com:3306' (60)\")"
     ]
    }
   ],
   "source": [
    "connection = MySQLdb.connect(db=db_name, user=db_user, passwd=db_password, host=db_host)\n",
    "cursor = connection.cursor()\n",
    "# root_folder = \"data/OCPM 011124 1858\"\n",
    "root_folder = \"data/inv/ocpm\"\n",
    "\n",
    "ts = table_schemas.table_schemas\n",
    "ts_csv = table_schemas.columns_to_parse\n",
    "\n",
    "def find_csv_files(root_folder):\n",
    "    csv_files = []\n",
    "    for root, dirs, files in os.walk(root_folder):\n",
    "        for file in files:\n",
    "            if file.endswith(\".csv\"):\n",
    "                csv_files.append(os.path.join(root, file))\n",
    "    return csv_files\n",
    "\n",
    "def create_or_overwrite_table(csv_file_path, cursor):\n",
    "    table_name = csv_file_path.split('\\\\')[-1]\n",
    "    table_name = table_name.split('.')[0]\n",
    "    print(f\"Creating or overwriting table: {table_name} with data from: {csv_file_path}\")\n",
    "\n",
    "    df = pd.read_csv(csv_file_path, parse_dates=ts_csv[table_name])\n",
    "    engine = create_engine(f\"mysql+mysqldb://{db_user}:{db_password}@{db_host}:{db_port}/{db_name}\")\n",
    "    df.to_sql(name=table_name, con=engine, if_exists='replace', index=False, dtype=ts[table_name])\n",
    "\n",
    "csv_files = find_csv_files(root_folder)\n",
    "for csv_file in csv_files:\n",
    "    create_or_overwrite_table(csv_file, cursor)\n",
    "\n",
    "cursor.close()\n",
    "connection.close()"
   ]
  },
  {
   "cell_type": "code",
   "execution_count": null,
   "metadata": {},
   "outputs": [],
   "source": []
  }
 ],
 "metadata": {
  "kernelspec": {
   "display_name": "Python 3",
   "language": "python",
   "name": "python3"
  },
  "language_info": {
   "codemirror_mode": {
    "name": "ipython",
    "version": 3
   },
   "file_extension": ".py",
   "mimetype": "text/x-python",
   "name": "python",
   "nbconvert_exporter": "python",
   "pygments_lexer": "ipython3",
   "version": "3.9.6"
  }
 },
 "nbformat": 4,
 "nbformat_minor": 2
}
