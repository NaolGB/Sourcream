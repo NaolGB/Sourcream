{
 "cells": [
  {
   "cell_type": "code",
   "execution_count": 1,
   "metadata": {},
   "outputs": [],
   "source": [
    "import os\n",
    "import csv\n",
    "import psycopg2\n",
    "import mysql\n",
    "import MySQLdb\n",
    "from sqlalchemy import create_engine, Table, Column, Integer, String, MetaData, DATE, TIMESTAMP, VARCHAR, FLOAT, INTEGER\n",
    "from psycopg2 import sql\n",
    "import pandas as pd\n",
    "import create_table_leanx as ctl\n",
    "import table_schemas"
   ]
  },
  {
   "cell_type": "code",
   "execution_count": 3,
   "metadata": {},
   "outputs": [],
   "source": [
    "db_host = 'academymysql.cluster-ckynnbglhixw.eu-central-1.rds.amazonaws.com'\n",
    "db_port = '3306'\n",
    "db_name = 'ocpm_om_test'\n",
    "db_user = 'admin'\n",
    "db_password = \n",
    "\n",
    "# Construct the connection string\n",
    "connection_string = sql.SQL(\"dbname={} user={} password={} host={} port={}\").format(\n",
    "    sql.Identifier(db_name),\n",
    "    sql.Identifier(db_user),\n",
    "    sql.Identifier(db_password),\n",
    "    sql.Identifier(db_host),\n",
    "    sql.Identifier(db_port)\n",
    ")"
   ]
  },
  {
   "cell_type": "code",
   "execution_count": null,
   "metadata": {},
   "outputs": [],
   "source": [
    "connection = MySQLdb.connect(db=db_name, user=db_user, passwd=db_password, host=db_host)\n",
    "cursor = connection.cursor()\n",
    "root_folder = \"data/OCPM/\"\n",
    "\n",
    "# lst of column names which needs to be string\n",
    "lst_str_cols = ['ABGRU','BSCHL','POSNR','VBELN', 'OBJNR','BELNR', 'MBLNR', 'CHANGENR', 'OBJECTCLAS', 'OBJECTID', 'CDTCODE', 'CHGNR', 'AWKEY', 'VBELV', 'BSTNK', 'VGBEL', 'VBELN_IM','FAKSP', 'FAKSK','LIFSK', 'LIFSP','FAKSD']\n",
    "# use dictionary comprehension to make dict of dtypes\n",
    "dict_dtypes = {x : 'str'  for x in lst_str_cols}\n",
    "\n",
    "ts = table_schemas.table_schemas\n",
    "ts_csv = table_schemas.columns_to_parse\n",
    "\n",
    "def find_csv_files(root_folder):\n",
    "    csv_files = []\n",
    "    for root, dirs, files in os.walk(root_folder):\n",
    "        for file in files:\n",
    "            if file.endswith(\".csv\"):\n",
    "                csv_files.append(os.path.join(root, file))\n",
    "    return csv_files\n",
    "\n",
    "def create_or_overwrite_table(csv_file_path, cursor):\n",
    "    table_name = csv_file_path.split('\\\\')[-1]\n",
    "    table_name = table_name.split('.')[0]\n",
    "    print(f\"Creating or overwriting table: {table_name} with data from: {csv_file_path}\")\n",
    "\n",
    "    df = pd.read_csv(csv_file_path, parse_dates=ts_csv[table_name], dtype=dict_dtypes)\n",
    "    engine = create_engine(f\"mysql+mysqldb://{db_user}:{db_password}@{db_host}:{db_port}/{db_name}\")\n",
    "    df.to_sql(name=table_name, con=engine, if_exists='replace', index=False, dtype=ts[table_name])\n",
    "\n",
    "csv_files = find_csv_files(root_folder)\n",
    "for csv_file in csv_files:\n",
    "    create_or_overwrite_table(csv_file, cursor)\n",
    "\n",
    "cursor.close()\n",
    "connection.close()"
   ]
  },
  {
   "cell_type": "code",
   "execution_count": null,
   "metadata": {},
   "outputs": [],
   "source": []
  }
 ],
 "metadata": {
  "kernelspec": {
   "display_name": "Python 3",
   "language": "python",
   "name": "python3"
  },
  "language_info": {
   "codemirror_mode": {
    "name": "ipython",
    "version": 3
   },
   "file_extension": ".py",
   "mimetype": "text/x-python",
   "name": "python",
   "nbconvert_exporter": "python",
   "pygments_lexer": "ipython3",
   "version": "3.12.1"
  }
 },
 "nbformat": 4,
 "nbformat_minor": 2
}
